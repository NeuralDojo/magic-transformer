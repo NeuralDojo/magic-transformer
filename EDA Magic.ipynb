{
 "cells": [
  {
   "cell_type": "code",
   "execution_count": 14,
   "id": "5425f79b-dbcb-4222-9a28-43746a4b5bfb",
   "metadata": {},
   "outputs": [],
   "source": [
    "import pandas as pd\n",
    "import numpy as np\n",
    "import seaborn as sns\n",
    "import matplotlib.pyplot as plt"
   ]
  },
  {
   "cell_type": "code",
   "execution_count": 29,
   "id": "9a8e1213-2d7f-4278-8f74-668289505dd3",
   "metadata": {},
   "outputs": [
    {
     "name": "stderr",
     "output_type": "stream",
     "text": [
      "/var/folders/31/pk9y22sx0hz7x9_0x8flhklm0000gn/T/ipykernel_2909/2182869176.py:1: DtypeWarning: Columns (10,16,19,23,26,50,62,63,70,77) have mixed types. Specify dtype option on import or set low_memory=False.\n",
      "  df = pd.read_csv('data/AllPrintingsCSVFiles/cards.csv')\n"
     ]
    }
   ],
   "source": [
    "df = pd.read_csv('data/AllPrintingsCSVFiles/cards.csv')"
   ]
  },
  {
   "cell_type": "code",
   "execution_count": 30,
   "id": "3d14c9b4-b619-41c8-8e94-45309508cbab",
   "metadata": {},
   "outputs": [
    {
     "data": {
      "text/plain": [
       "(69217, 89)"
      ]
     },
     "execution_count": 30,
     "metadata": {},
     "output_type": "execute_result"
    }
   ],
   "source": [
    "df.shape"
   ]
  },
  {
   "cell_type": "code",
   "execution_count": 31,
   "id": "1ac9a015-bc01-4148-83a6-649cc4d8378b",
   "metadata": {},
   "outputs": [
    {
     "data": {
      "text/html": [
       "<div>\n",
       "<style scoped>\n",
       "    .dataframe tbody tr th:only-of-type {\n",
       "        vertical-align: middle;\n",
       "    }\n",
       "\n",
       "    .dataframe tbody tr th {\n",
       "        vertical-align: top;\n",
       "    }\n",
       "\n",
       "    .dataframe thead th {\n",
       "        text-align: right;\n",
       "    }\n",
       "</style>\n",
       "<table border=\"1\" class=\"dataframe\">\n",
       "  <thead>\n",
       "    <tr style=\"text-align: right;\">\n",
       "      <th></th>\n",
       "      <th>index</th>\n",
       "      <th>id</th>\n",
       "      <th>artist</th>\n",
       "      <th>asciiName</th>\n",
       "      <th>availability</th>\n",
       "      <th>boosterTypes</th>\n",
       "      <th>borderColor</th>\n",
       "      <th>cardKingdomEtchedId</th>\n",
       "      <th>cardKingdomFoilId</th>\n",
       "      <th>cardKingdomId</th>\n",
       "      <th>...</th>\n",
       "      <th>supertypes</th>\n",
       "      <th>tcgplayerEtchedProductId</th>\n",
       "      <th>tcgplayerProductId</th>\n",
       "      <th>text</th>\n",
       "      <th>toughness</th>\n",
       "      <th>type</th>\n",
       "      <th>types</th>\n",
       "      <th>uuid</th>\n",
       "      <th>variations</th>\n",
       "      <th>watermark</th>\n",
       "    </tr>\n",
       "  </thead>\n",
       "  <tbody>\n",
       "    <tr>\n",
       "      <th>0</th>\n",
       "      <td>0</td>\n",
       "      <td>1</td>\n",
       "      <td>Pete Venters</td>\n",
       "      <td>NaN</td>\n",
       "      <td>mtgo,paper</td>\n",
       "      <td>draft</td>\n",
       "      <td>black</td>\n",
       "      <td>NaN</td>\n",
       "      <td>NaN</td>\n",
       "      <td>122719.0</td>\n",
       "      <td>...</td>\n",
       "      <td>NaN</td>\n",
       "      <td>NaN</td>\n",
       "      <td>15032.0</td>\n",
       "      <td>First strike (This creature deals combat damag...</td>\n",
       "      <td>4</td>\n",
       "      <td>Creature — Human Cleric</td>\n",
       "      <td>Creature</td>\n",
       "      <td>5f8287b1-5bb6-5f4c-ad17-316a40d5bb0c</td>\n",
       "      <td>b7c19924-b4bf-56fc-aa73-f586e940bd42</td>\n",
       "      <td>NaN</td>\n",
       "    </tr>\n",
       "    <tr>\n",
       "      <th>1</th>\n",
       "      <td>1</td>\n",
       "      <td>2</td>\n",
       "      <td>Pete Venters</td>\n",
       "      <td>NaN</td>\n",
       "      <td>mtgo,paper</td>\n",
       "      <td>draft</td>\n",
       "      <td>black</td>\n",
       "      <td>NaN</td>\n",
       "      <td>123087.0</td>\n",
       "      <td>NaN</td>\n",
       "      <td>...</td>\n",
       "      <td>NaN</td>\n",
       "      <td>NaN</td>\n",
       "      <td>15032.0</td>\n",
       "      <td>First strike (This creature deals combat damag...</td>\n",
       "      <td>4</td>\n",
       "      <td>Creature — Human Cleric</td>\n",
       "      <td>Creature</td>\n",
       "      <td>b7c19924-b4bf-56fc-aa73-f586e940bd42</td>\n",
       "      <td>5f8287b1-5bb6-5f4c-ad17-316a40d5bb0c</td>\n",
       "      <td>NaN</td>\n",
       "    </tr>\n",
       "    <tr>\n",
       "      <th>2</th>\n",
       "      <td>2</td>\n",
       "      <td>3</td>\n",
       "      <td>Volkan Baǵa</td>\n",
       "      <td>NaN</td>\n",
       "      <td>mtgo,paper</td>\n",
       "      <td>draft</td>\n",
       "      <td>black</td>\n",
       "      <td>NaN</td>\n",
       "      <td>NaN</td>\n",
       "      <td>122720.0</td>\n",
       "      <td>...</td>\n",
       "      <td>NaN</td>\n",
       "      <td>NaN</td>\n",
       "      <td>15033.0</td>\n",
       "      <td>Flying\\nWhen Angel of Mercy enters the battlef...</td>\n",
       "      <td>3</td>\n",
       "      <td>Creature — Angel</td>\n",
       "      <td>Creature</td>\n",
       "      <td>57aaebc1-850c-503d-9f6e-bb8d00d8bf7c</td>\n",
       "      <td>8fd4e2eb-3eb4-50ea-856b-ef638fa47f8a</td>\n",
       "      <td>NaN</td>\n",
       "    </tr>\n",
       "    <tr>\n",
       "      <th>3</th>\n",
       "      <td>3</td>\n",
       "      <td>4</td>\n",
       "      <td>Volkan Baǵa</td>\n",
       "      <td>NaN</td>\n",
       "      <td>mtgo,paper</td>\n",
       "      <td>draft</td>\n",
       "      <td>black</td>\n",
       "      <td>NaN</td>\n",
       "      <td>123088.0</td>\n",
       "      <td>NaN</td>\n",
       "      <td>...</td>\n",
       "      <td>NaN</td>\n",
       "      <td>NaN</td>\n",
       "      <td>15033.0</td>\n",
       "      <td>Flying\\nWhen Angel of Mercy enters the battlef...</td>\n",
       "      <td>3</td>\n",
       "      <td>Creature — Angel</td>\n",
       "      <td>Creature</td>\n",
       "      <td>8fd4e2eb-3eb4-50ea-856b-ef638fa47f8a</td>\n",
       "      <td>57aaebc1-850c-503d-9f6e-bb8d00d8bf7c</td>\n",
       "      <td>NaN</td>\n",
       "    </tr>\n",
       "    <tr>\n",
       "      <th>4</th>\n",
       "      <td>4</td>\n",
       "      <td>5</td>\n",
       "      <td>Mark Zug</td>\n",
       "      <td>NaN</td>\n",
       "      <td>mtgo,paper</td>\n",
       "      <td>draft</td>\n",
       "      <td>black</td>\n",
       "      <td>NaN</td>\n",
       "      <td>NaN</td>\n",
       "      <td>122721.0</td>\n",
       "      <td>...</td>\n",
       "      <td>NaN</td>\n",
       "      <td>NaN</td>\n",
       "      <td>15035.0</td>\n",
       "      <td>Target creature gets +3/+3 and gains flying un...</td>\n",
       "      <td>NaN</td>\n",
       "      <td>Sorcery</td>\n",
       "      <td>Sorcery</td>\n",
       "      <td>55bd38ca-dc73-5c06-8f80-a6ddd2f44382</td>\n",
       "      <td>c5655330-5131-5f40-9d3e-0549d88c6e9e</td>\n",
       "      <td>NaN</td>\n",
       "    </tr>\n",
       "  </tbody>\n",
       "</table>\n",
       "<p>5 rows × 89 columns</p>\n",
       "</div>"
      ],
      "text/plain": [
       "   index  id        artist asciiName availability boosterTypes borderColor  \\\n",
       "0      0   1  Pete Venters       NaN   mtgo,paper        draft       black   \n",
       "1      1   2  Pete Venters       NaN   mtgo,paper        draft       black   \n",
       "2      2   3   Volkan Baǵa       NaN   mtgo,paper        draft       black   \n",
       "3      3   4   Volkan Baǵa       NaN   mtgo,paper        draft       black   \n",
       "4      4   5      Mark Zug       NaN   mtgo,paper        draft       black   \n",
       "\n",
       "   cardKingdomEtchedId  cardKingdomFoilId  cardKingdomId  ... supertypes  \\\n",
       "0                  NaN                NaN       122719.0  ...        NaN   \n",
       "1                  NaN           123087.0            NaN  ...        NaN   \n",
       "2                  NaN                NaN       122720.0  ...        NaN   \n",
       "3                  NaN           123088.0            NaN  ...        NaN   \n",
       "4                  NaN                NaN       122721.0  ...        NaN   \n",
       "\n",
       "   tcgplayerEtchedProductId tcgplayerProductId  \\\n",
       "0                       NaN            15032.0   \n",
       "1                       NaN            15032.0   \n",
       "2                       NaN            15033.0   \n",
       "3                       NaN            15033.0   \n",
       "4                       NaN            15035.0   \n",
       "\n",
       "                                                text toughness  \\\n",
       "0  First strike (This creature deals combat damag...         4   \n",
       "1  First strike (This creature deals combat damag...         4   \n",
       "2  Flying\\nWhen Angel of Mercy enters the battlef...         3   \n",
       "3  Flying\\nWhen Angel of Mercy enters the battlef...         3   \n",
       "4  Target creature gets +3/+3 and gains flying un...       NaN   \n",
       "\n",
       "                      type     types                                  uuid  \\\n",
       "0  Creature — Human Cleric  Creature  5f8287b1-5bb6-5f4c-ad17-316a40d5bb0c   \n",
       "1  Creature — Human Cleric  Creature  b7c19924-b4bf-56fc-aa73-f586e940bd42   \n",
       "2         Creature — Angel  Creature  57aaebc1-850c-503d-9f6e-bb8d00d8bf7c   \n",
       "3         Creature — Angel  Creature  8fd4e2eb-3eb4-50ea-856b-ef638fa47f8a   \n",
       "4                  Sorcery   Sorcery  55bd38ca-dc73-5c06-8f80-a6ddd2f44382   \n",
       "\n",
       "                             variations watermark  \n",
       "0  b7c19924-b4bf-56fc-aa73-f586e940bd42       NaN  \n",
       "1  5f8287b1-5bb6-5f4c-ad17-316a40d5bb0c       NaN  \n",
       "2  8fd4e2eb-3eb4-50ea-856b-ef638fa47f8a       NaN  \n",
       "3  57aaebc1-850c-503d-9f6e-bb8d00d8bf7c       NaN  \n",
       "4  c5655330-5131-5f40-9d3e-0549d88c6e9e       NaN  \n",
       "\n",
       "[5 rows x 89 columns]"
      ]
     },
     "execution_count": 31,
     "metadata": {},
     "output_type": "execute_result"
    }
   ],
   "source": [
    "df.head()"
   ]
  },
  {
   "cell_type": "code",
   "execution_count": 32,
   "id": "95164557-d9f5-433d-a023-b52b33a92552",
   "metadata": {},
   "outputs": [
    {
     "name": "stdout",
     "output_type": "stream",
     "text": [
      "<class 'pandas.core.frame.DataFrame'>\n",
      "RangeIndex: 69217 entries, 0 to 69216\n",
      "Data columns (total 89 columns):\n",
      " #   Column                    Non-Null Count  Dtype  \n",
      "---  ------                    --------------  -----  \n",
      " 0   index                     69217 non-null  int64  \n",
      " 1   id                        69217 non-null  int64  \n",
      " 2   artist                    69206 non-null  object \n",
      " 3   asciiName                 68 non-null     object \n",
      " 4   availability              69216 non-null  object \n",
      " 5   boosterTypes              41819 non-null  object \n",
      " 6   borderColor               69217 non-null  object \n",
      " 7   cardKingdomEtchedId       694 non-null    float64\n",
      " 8   cardKingdomFoilId         35784 non-null  float64\n",
      " 9   cardKingdomId             52904 non-null  float64\n",
      " 10  cardParts                 9 non-null      object \n",
      " 11  cardsphereId              55229 non-null  float64\n",
      " 12  colorIdentity             61972 non-null  object \n",
      " 13  colorIndicator            530 non-null    object \n",
      " 14  colors                    54686 non-null  object \n",
      " 15  convertedManaCost         69217 non-null  float64\n",
      " 16  duelDeck                  1594 non-null   object \n",
      " 17  edhrecRank                63340 non-null  float64\n",
      " 18  faceConvertedManaCost     1808 non-null   float64\n",
      " 19  faceFlavorName            12 non-null     object \n",
      " 20  faceManaValue             1808 non-null   float64\n",
      " 21  faceName                  2368 non-null   object \n",
      " 22  finishes                  69217 non-null  object \n",
      " 23  flavorName                71 non-null     object \n",
      " 24  flavorText                35352 non-null  object \n",
      " 25  frameEffects              6797 non-null   object \n",
      " 26  frameVersion              69217 non-null  object \n",
      " 27  hand                      119 non-null    float64\n",
      " 28  hasAlternativeDeckLimit   69217 non-null  int64  \n",
      " 29  hasContentWarning         69217 non-null  int64  \n",
      " 30  hasFoil                   69217 non-null  int64  \n",
      " 31  hasNonFoil                69217 non-null  int64  \n",
      " 32  isAlternative             69217 non-null  int64  \n",
      " 33  isFullArt                 69217 non-null  int64  \n",
      " 34  isFunny                   69217 non-null  int64  \n",
      " 35  isOnlineOnly              69217 non-null  int64  \n",
      " 36  isOversized               69217 non-null  int64  \n",
      " 37  isPromo                   69217 non-null  int64  \n",
      " 38  isRebalanced              69217 non-null  int64  \n",
      " 39  isReprint                 69217 non-null  int64  \n",
      " 40  isReserved                69217 non-null  int64  \n",
      " 41  isStarter                 69217 non-null  int64  \n",
      " 42  isStorySpotlight          69217 non-null  int64  \n",
      " 43  isTextless                69217 non-null  int64  \n",
      " 44  isTimeshifted             69217 non-null  int64  \n",
      " 45  keywords                  26561 non-null  object \n",
      " 46  language                  69217 non-null  object \n",
      " 47  layout                    69217 non-null  object \n",
      " 48  leadershipSkills          5918 non-null   object \n",
      " 49  life                      119 non-null    float64\n",
      " 50  loyalty                   1111 non-null   object \n",
      " 51  manaCost                  60368 non-null  object \n",
      " 52  manaValue                 69217 non-null  float64\n",
      " 53  mcmId                     60401 non-null  float64\n",
      " 54  mcmMetaId                 44843 non-null  float64\n",
      " 55  mtgArenaId                9366 non-null   float64\n",
      " 56  mtgjsonV4Id               69217 non-null  object \n",
      " 57  mtgoFoilId                24377 non-null  float64\n",
      " 58  mtgoId                    37864 non-null  float64\n",
      " 59  multiverseId              49081 non-null  float64\n",
      " 60  name                      69217 non-null  object \n",
      " 61  number                    69217 non-null  object \n",
      " 62  originalPrintings         94 non-null     object \n",
      " 63  originalReleaseDate       4098 non-null   object \n",
      " 64  otherFaceIds              2368 non-null   object \n",
      " 65  power                     32679 non-null  object \n",
      " 66  printings                 69217 non-null  object \n",
      " 67  promoTypes                9498 non-null   object \n",
      " 68  purchaseUrls              61158 non-null  object \n",
      " 69  rarity                    69217 non-null  object \n",
      " 70  rebalancedPrintings       133 non-null    object \n",
      " 71  scryfallId                69217 non-null  object \n",
      " 72  scryfallIllustrationId    69207 non-null  object \n",
      " 73  scryfallOracleId          69207 non-null  object \n",
      " 74  securityStamp             17755 non-null  object \n",
      " 75  setCode                   69217 non-null  object \n",
      " 76  side                      2368 non-null   object \n",
      " 77  signature                 1244 non-null   object \n",
      " 78  subtypes                  42602 non-null  object \n",
      " 79  supertypes                10651 non-null  object \n",
      " 80  tcgplayerEtchedProductId  706 non-null    float64\n",
      " 81  tcgplayerProductId        60632 non-null  float64\n",
      " 82  text                      68250 non-null  object \n",
      " 83  toughness                 32679 non-null  object \n",
      " 84  type                      69217 non-null  object \n",
      " 85  types                     69217 non-null  object \n",
      " 86  uuid                      69217 non-null  object \n",
      " 87  variations                13714 non-null  object \n",
      " 88  watermark                 5240 non-null   object \n",
      "dtypes: float64(19), int64(19), object(51)\n",
      "memory usage: 47.0+ MB\n"
     ]
    }
   ],
   "source": [
    "df.info()"
   ]
  },
  {
   "cell_type": "markdown",
   "id": "bbaeb8cd-3987-413c-8630-fbf0d180c99d",
   "metadata": {},
   "source": [
    "## Exploratory Analisis\n"
   ]
  },
  {
   "cell_type": "code",
   "execution_count": 10,
   "id": "e9167e93-5e5e-4ff4-9558-f7c000fd3596",
   "metadata": {},
   "outputs": [
    {
     "data": {
      "text/plain": [
       "Legendary         2366\n",
       "Basic              600\n",
       "Snow                66\n",
       "World               41\n",
       "Host                28\n",
       "Basic Snow          25\n",
       "Legendary Snow       6\n",
       "Name: superType, dtype: int64"
      ]
     },
     "execution_count": 10,
     "metadata": {},
     "output_type": "execute_result"
    }
   ],
   "source": [
    "data = df.superType.value_counts()\n",
    "data"
   ]
  },
  {
   "cell_type": "code",
   "execution_count": 18,
   "id": "f69662eb-7357-4f94-954a-0a794fb8436b",
   "metadata": {},
   "outputs": [
    {
     "data": {
      "text/plain": [
       "Text(0.5, 1.0, 'superType')"
      ]
     },
     "execution_count": 18,
     "metadata": {},
     "output_type": "execute_result"
    },
    {
     "data": {
      "image/png": "[encoded data removed]",
      "text/plain": [
       "<Figure size 1080x360 with 1 Axes>"
      ]
     },
     "metadata": {
      "needs_background": "light"
     },
     "output_type": "display_data"
    }
   ],
   "source": [
    "plt.figure(figsize=(15,5))\n",
    "ax = sns.barplot(x = data.index, y = data)\n",
    "ax.set_title(\"superType\")"
   ]
  },
  {
   "cell_type": "code",
   "execution_count": 20,
   "id": "d182f7ec-5e3e-4b49-87d5-747768b95a9f",
   "metadata": {},
   "outputs": [
    {
     "data": {
      "text/plain": [
       "Creature                17723\n",
       "Instant                  4963\n",
       "Sorcery                  4535\n",
       "Enchantment              4172\n",
       "Land                     2891\n",
       "Artifact                 2858\n",
       "Artifact Creature        1251\n",
       "Planeswalker              346\n",
       "Enchantment Creature      172\n",
       "Tribal Instant             35\n",
       "Artifact Land              28\n",
       "Tribal Enchantment         26\n",
       "Tribal Sorcery             26\n",
       "Enchantment Artifact        7\n",
       "Tribal Artifact             5\n",
       "Land Creature               3\n",
       "Instant Creature            2\n",
       "Enchantment Land            1\n",
       "Name: cardType, dtype: int64"
      ]
     },
     "execution_count": 20,
     "metadata": {},
     "output_type": "execute_result"
    }
   ],
   "source": [
    "data = df.cardType.value_counts()\n",
    "data"
   ]
  },
  {
   "cell_type": "code",
   "execution_count": 26,
   "id": "8c556023-b3ee-4572-8614-a499262ddde0",
   "metadata": {},
   "outputs": [
    {
     "data": {
      "text/plain": [
       "[Text(0, 0, 'Creature'),\n",
       " Text(1, 0, 'Instant'),\n",
       " Text(2, 0, 'Sorcery'),\n",
       " Text(3, 0, 'Enchantment'),\n",
       " Text(4, 0, 'Land'),\n",
       " Text(5, 0, 'Artifact'),\n",
       " Text(6, 0, 'Artifact Creature'),\n",
       " Text(7, 0, 'Planeswalker'),\n",
       " Text(8, 0, 'Enchantment Creature'),\n",
       " Text(9, 0, 'Tribal Instant'),\n",
       " Text(10, 0, 'Artifact Land'),\n",
       " Text(11, 0, 'Tribal Enchantment'),\n",
       " Text(12, 0, 'Tribal Sorcery'),\n",
       " Text(13, 0, 'Enchantment Artifact'),\n",
       " Text(14, 0, 'Tribal Artifact'),\n",
       " Text(15, 0, 'Land Creature'),\n",
       " Text(16, 0, 'Instant Creature'),\n",
       " Text(17, 0, 'Enchantment Land')]"
      ]
     },
     "execution_count": 26,
     "metadata": {},
     "output_type": "execute_result"
    },
    {
     "data": {
      "image/png": "[encoded data removed]",
      "text/plain": [
       "<Figure size 1800x360 with 1 Axes>"
      ]
     },
     "metadata": {
      "needs_background": "light"
     },
     "output_type": "display_data"
    }
   ],
   "source": [
    "plt.figure(figsize=(25,5))\n",
    "ax = sns.barplot(x = data.index, y = data)\n",
    "ax.set_title(\"superType\")\n",
    "ax.set_xticklabels(ax.get_xticklabels(),rotation = 30)"
   ]
  },
  {
   "cell_type": "code",
   "execution_count": 28,
   "id": "93c28dd0-1bc3-498c-9373-a482844cc8e5",
   "metadata": {},
   "outputs": [
    {
     "data": {
      "text/plain": [
       "Aura                      1772\n",
       "Human Wizard               705\n",
       "Elemental                  654\n",
       "Human Soldier              603\n",
       "Spirit                     506\n",
       "                          ... \n",
       "Rabbit Wizard                1\n",
       "Nightmare Dinosaur           1\n",
       "Beast Warrior                1\n",
       "Zombie Hippo                 1\n",
       "Human Advisor Werewolf       1\n",
       "Name: subType, Length: 1433, dtype: int64"
      ]
     },
     "execution_count": 28,
     "metadata": {},
     "output_type": "execute_result"
    }
   ],
   "source": [
    "data = df.subType.value_counts()\n",
    "data"
   ]
  },
  {
   "cell_type": "markdown",
   "id": "cc9a2e86-8541-4426-ba7c-9f3784d178f4",
   "metadata": {},
   "source": [
    "## References\n",
    "\n",
    "https://codeburst.io/i-scraped-every-existing-magic-the-gathering-card-3207e72080ce"
   ]
  },
  {
   "cell_type": "code",
   "execution_count": null,
   "id": "a624024e-c2aa-4dba-93ba-b8513f3b33af",
   "metadata": {},
   "outputs": [],
   "source": []
  }
 ],
 "metadata": {
  "kernelspec": {
   "display_name": "Python 3 (ipykernel)",
   "language": "python",
   "name": "python3"
  },
  "language_info": {
   "codemirror_mode": {
    "name": "ipython",
    "version": 3
   },
   "file_extension": ".py",
   "mimetype": "text/x-python",
   "name": "python",
   "nbconvert_exporter": "python",
   "pygments_lexer": "ipython3",
   "version": "3.10.4"
  }
 },
 "nbformat": 4,
 "nbformat_minor": 5
}
